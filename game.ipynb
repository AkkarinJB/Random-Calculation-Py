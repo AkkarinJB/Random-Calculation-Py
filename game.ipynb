{
 "cells": [
  {
   "cell_type": "code",
   "execution_count": 2,
   "metadata": {},
   "outputs": [],
   "source": [
    "import random\n",
    "import operator"
   ]
  },
  {
   "cell_type": "code",
   "execution_count": 1,
   "metadata": {},
   "outputs": [],
   "source": [
    "def generate_numbers():\n",
    "    return [random.randint(1, 10) for _ in range(4)]\n"
   ]
  },
  {
   "cell_type": "code",
   "execution_count": 3,
   "metadata": {},
   "outputs": [],
   "source": [
    "def random_operation():\n",
    "    operations = {\n",
    "        \"+\": operator.add,\n",
    "        \"-\": operator.sub,\n",
    "        \"*\": operator.mul,\n",
    "        \"/\": operator.truediv\n",
    "    }\n",
    "    return random.choice(list(operations.items()))"
   ]
  },
  {
   "cell_type": "code",
   "execution_count": null,
   "metadata": {},
   "outputs": [],
   "source": [
    "def calculate_and_display(numbers):\n",
    "    \n",
    "    result = numbers[0]\n",
    "    equation = str(numbers[0])\n",
    "\n",
    "    for number in numbers[1:]:\n",
    "        op_symbol, op_func = random_operation()\n",
    "        try:\n",
    "            \n",
    "            result = op_func(result, number)\n",
    "            # อัปเดตสมการ\n",
    "            equation += f\" {op_symbol} {number}\"\n",
    "        except ZeroDivisionError:\n",
    "            \n",
    "            continue\n",
    "\n",
    "    print(\"วิธีทำ:\", equation)\n",
    "    print(\"ผลลัพธ์:\", result)\n"
   ]
  },
  {
   "cell_type": "code",
   "execution_count": 45,
   "metadata": {},
   "outputs": [
    {
     "name": "stdout",
     "output_type": "stream",
     "text": [
      "ตัวเลขสุ่ม: [9, 4, 1, 8]\n",
      "วิธีทำ: 9 - 4 * 1 - 8\n",
      "ผลลัพธ์: -3\n"
     ]
    }
   ],
   "source": [
    "numbers = generate_numbers()\n",
    "print(\"ตัวเลขสุ่ม:\", numbers)\n",
    "calculate_and_display(numbers)"
   ]
  }
 ],
 "metadata": {
  "kernelspec": {
   "display_name": ".venv",
   "language": "python",
   "name": "python3"
  },
  "language_info": {
   "codemirror_mode": {
    "name": "ipython",
    "version": 3
   },
   "file_extension": ".py",
   "mimetype": "text/x-python",
   "name": "python",
   "nbconvert_exporter": "python",
   "pygments_lexer": "ipython3",
   "version": "3.13.0"
  }
 },
 "nbformat": 4,
 "nbformat_minor": 2
}
